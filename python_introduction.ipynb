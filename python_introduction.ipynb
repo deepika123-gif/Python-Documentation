{
 "cells": [
  {
   "cell_type": "markdown",
   "id": "8c4bc666-34a1-47b6-8018-1ad79dafae95",
   "metadata": {},
   "source": [
    "<div style=\"background-color:rgb(40, 178, 224); padding: 10px; height: 70px; border-radius: 15px;\">\n",
    "    <div style=\"font-family: 'Georgia', serif; font-size: 20px; padding: 10px; text-align: right; position: absolute; right: 20px;\">\n",
    "        Deepika <br>\n",
    "        <span style=\"font-family: 'Arial', sans-serif;font-size: 12px; color: #0a0a0a;\">AIML Trainee | AI/ML bootcamp</span> <!--- Devashish Kumar | CodroidHub Private Limited | AI/ML Consultant --->\n",
    "    </div>\n",
    "</div>"
   ]
  },
  {
   "cell_type": "markdown",
   "id": "ef444d2e-97e9-49a8-bf3d-0119a2dfebb5",
   "metadata": {},
   "source": [
    "<!--- Devashish Kumar | Tech Skills Trainer | CodroidHub Private Limited | AI/ML Consultant --->"
   ]
  },
  {
   "cell_type": "markdown",
   "id": "151ad3d8-0bce-4e29-86da-5ea91b5a69df",
   "metadata": {},
   "source": [
    "<div style=\"background-color: #002147; padding: 10px; text-align: center; color: white; font-size: 32px; font-family: 'Arial', sans-serif;\">\n",
    "    Basic Introduction of Python <br><br>\n",
    "    \n",
    "</div>"
   ]
  },
  {
   "cell_type": "markdown",
   "id": "155e8ec7-547b-41f4-b6f6-6e6e719c198c",
   "metadata": {},
   "source": [
    "<div style=\"background-color:lightgreen\n",
    "; color: black; padding: 10px;\">\n",
    "    <h2><b>What is Python?</b> </h2>\n",
    "    <p></p>\n"
   ]
  },
  {
   "cell_type": "markdown",
   "id": "19b1c30b-e766-4658-8d70-1b0af10ae2f4",
   "metadata": {},
   "source": [
    "<h4><p>Python is a high-level, interpreted programming language known for its simplicity and readability. It supports multiple programming paradigms, including procedural, object-oriented, and functional programming.</p>\n",
    "<p>It is used for:\n",
    "<ul><li>\n",
    "web development (server-side),</li>\n",
    "<li>\n",
    "software development,</li>\n",
    "<li>mathematics,</li>\n",
    "<li>system scripting.</li>\n",
    "<li>etc...</li>\n",
    "</ul></p></h4>"
   ]
  },
  {
   "cell_type": "markdown",
   "id": "53ec8637",
   "metadata": {},
   "source": [
    "<div style=\"background-color: lightgreen; color: black; padding: 4px;\">\n",
    "    <h2><b>History of Python</b>\n",
    "</h2> </div>"
   ]
  },
  {
   "cell_type": "markdown",
   "id": "1c762cd6-ee35-4e4e-aa54-600db6a9c23d",
   "metadata": {},
   "source": [
    "\n",
    "   <p> <h4> Python is a high-level, interpreted programming language that was created by Guido van Rossum in the late 1980s and first released in 1991. It was designed with an emphasis on code readability and simplicity, making it one of the most popular and widely used programming languages today.\n",
    "</h4> </p>"
   ]
  },
  {
   "cell_type": "markdown",
   "id": "a3b10a45",
   "metadata": {},
   "source": [
    "<div style=\"background-color: lightgreen; color: black; padding: 4px;\">\n",
    "    <h2><b>Who Invented Python?</b></h2> </div>"
   ]
  },
  {
   "cell_type": "markdown",
   "id": "aac5865a",
   "metadata": {},
   "source": [
    "\n",
    "   <p><h4> Python was invented by a Dutch Programmer Guido Van Rossum in the late 1980s. He began working on Python in December 1989 as a hobby project while working at the Centrum Wiskunde & Informatica (CWI) in the Netherlands. </h4></p>"
   ]
  },
  {
   "cell_type": "markdown",
   "id": "b9b0d089",
   "metadata": {},
   "source": [
    "<div style=\"background-color: lightgreen; color: black; padding: 4px;\">\n",
    "    <h2><b>The Major Python Versions</b>\n",
    "    </h2> </div>"
   ]
  },
  {
   "cell_type": "markdown",
   "id": "5cf6b263",
   "metadata": {},
   "source": [
    "<div style=\"background-color: lightblue; color: black; padding: 4px;\">\n",
    "    <h3> <ul>\n",
    "    <li><u>Python 0.9.0</u></li>\n",
    "</ul>\n",
    "</h3> </div>"
   ]
  },
  {
   "cell_type": "markdown",
   "id": "a5373419",
   "metadata": {},
   "source": [
    "<p><h5>Python's first published version is 0.9. It was released in February 1991. It consisted of features such as classes with inheritance, exception handling, and core data types like lists and dictionaries..</h5></p>"
   ]
  },
  {
   "cell_type": "markdown",
   "id": "b95d7fbd",
   "metadata": {},
   "source": [
    "<div style=\"background-color:lightblue; color: black; padding: 4px;\">\n",
    "    <h3> <ul>\n",
    "    <li><u>Python 1.0</u>\n",
    "</li>\n",
    "    </ul>\n",
    "</h3> </div>"
   ]
  },
  {
   "cell_type": "markdown",
   "id": "ca14dd0a",
   "metadata": {},
   "source": [
    "<p><h5>In January 1994, version 1.0 was released, with functional programming tools, features like support for complex numbers etc and module system which allows a better code organization.</h5>\n",
    "</p>"
   ]
  },
  {
   "cell_type": "markdown",
   "id": "6e321b71",
   "metadata": {},
   "source": [
    "<div style=\"background-color: lightblue; color: black; padding: 4px;\">\n",
    "    <h4><ul><li><u>\n",
    "     Python 2.0</u></li>\n",
    "</ul>\n",
    "</h4> </div>"
   ]
  },
  {
   "cell_type": "markdown",
   "id": "f2185430-3791-45df-824f-bdec6d7145e3",
   "metadata": {},
   "source": [
    "<p><h5>Next major version − Python 2.0 was launched in October 2000. Many new features such as list comprehension and Unicode support were included with it.</h5>\n",
    "</p>"
   ]
  },
  {
   "cell_type": "markdown",
   "id": "b69ed7ea-1940-434d-bb2d-601d07994783",
   "metadata": {},
   "source": [
    "<div style=\"background-color: lightblue; color: black; padding: 4px;\">\n",
    "<h4><ul><li><u>Python 3.0\n",
    "</u>\n",
    "</li>\n",
    "</ul>\n",
    "<h4>\n",
    "</div>"
   ]
  },
  {
   "cell_type": "markdown",
   "id": "a3a3f2db",
   "metadata": {},
   "source": [
    "<p><h5>Python 3.0, a completely revamped version of Python was released in December 2008. The primary objective of this revamp was to remove a lot of discrepancies that had crept in Python 2.x versions. </h5>\n",
    "</p>"
   ]
  },
  {
   "cell_type": "markdown",
   "id": "13e86481-eae2-4019-9515-66a43a30f0fb",
   "metadata": {},
   "source": [
    "<div style=\"background-color:lightblue; color: black; padding: 4px;\">\n",
    "<h4><ul>\n",
    "<li><u>Current Version of Python\n",
    "</u></li>\n",
    "</ul>\n",
    "</h4>\n",
    "    </div>"
   ]
  },
  {
   "cell_type": "markdown",
   "id": "aefa2f04-f141-405d-8a9f-8cf186d66f41",
   "metadata": {},
   "source": [
    "<p><h5>Meanwhile, more and more features have been incorporated into Python's 3.x branch. As of date, Python 3.11.2 is the current stable version, released in February 2023.</h5></p>\n",
    "\n"
   ]
  },
  {
   "cell_type": "markdown",
   "id": "7745c753",
   "metadata": {},
   "source": [
    "<div style=\"background-color: lightgreen; color: black; padding: 4px;\">\n",
    "    <h2><b>Why Python Called Python?</b></h2> </div>"
   ]
  },
  {
   "cell_type": "markdown",
   "id": "b1120fe1",
   "metadata": {},
   "source": [
    "<p><h4>The inspiration for the name came from the BBC’s TV Show – ‘ Monty Python’s Flying Circus’ , as he was a big fan of the TV show and also he wanted a short, unique and slightly mysterious name for his invention and hence he named it Python! He was the “Benevolent dictator for life” (BDFL) until he stepped down from the position as the leader on 12th July 2018. For quite some time he used to work for Google, but currently, he is working at Dropbox.</h4></p>"
   ]
  },
  {
   "cell_type": "markdown",
   "id": "4f18c4c4",
   "metadata": {},
   "source": [
    "<div style=\"background-color: lightgreen; color: black; padding: 4px;\">\n",
    "    <h2><b>Properties of python</b></h2> </div>"
   ]
  },
  {
   "cell_type": "markdown",
   "id": "8771a653",
   "metadata": {},
   "source": [
    "<div style=\"background-color: lightblue; color: black; padding: 4px;\">\n",
    "    <h3> <ol>\n",
    "    <li>Easy to Learn and Readable</li>\n",
    "    <li>Powerfull programming language</li>\n",
    "    <li>Efficient high level data structure</li>\n",
    "    <li>Elegant syntax</li>\n",
    "    <li>interpretted language</li>\n",
    "    \n",
    "    \n",
    "</ol>\n",
    "</h3> </div>"
   ]
  },
  {
   "cell_type": "markdown",
   "id": "f4db0fac",
   "metadata": {},
   "source": [
    "<div style=\"background-color: #f5b7b1; color: black; padding: 4px;\">\n",
    "<h3><ol><li>Easy to Learn and Readable</li></ol></h3></div>\n",
    "<h4><ul><li>Simple and English-Like Syntax</ul></li></h4>\n",
    "<p>Python code is designed to be close to natural language, making it easier to understand and No need for complex symbols like {}</p><br.>\n",
    "Example:-\n",
    "\n"
   ]
  },
  {
   "cell_type": "code",
   "execution_count": 6,
   "id": "310ee77f",
   "metadata": {},
   "outputs": [
    {
     "name": "stdout",
     "output_type": "stream",
     "text": [
      "Hello Word\n"
     ]
    }
   ],
   "source": [
    "\n",
    "print(\"Hello Word\")     #Simple print statement"
   ]
  },
  {
   "cell_type": "markdown",
   "id": "c9dd7618",
   "metadata": {},
   "source": [
    "<h4><ul><li> No Need for Explicit Variable Declaration</li></ul></h4>\n",
    "<p>In Python, you don’t need to define variable types explicitly.\n",
    "</p><br>\n",
    "Example:-"
   ]
  },
  {
   "cell_type": "code",
   "execution_count": 7,
   "id": "6302b44f",
   "metadata": {},
   "outputs": [],
   "source": [
    "x=10     # Python automatically understands x is an integer"
   ]
  },
  {
   "cell_type": "markdown",
   "id": "db162a41",
   "metadata": {},
   "source": [
    "<div style=\"background-color: #f5b7b1; color: black; padding: 4px;\">\n",
    "<h3>2.Powerfull programming language</h3></div>"
   ]
  },
  {
   "cell_type": "markdown",
   "id": "1c7f2e4d",
   "metadata": {},
   "source": [
    "<h4><ul><li>Simple and Expressive Syntax</li></ul></h4>\n",
    "<p>Python’s clean and concise syntax allows developers to write complex programs with fewer lines of code.<p>"
   ]
  },
  {
   "cell_type": "markdown",
   "id": "05283e06",
   "metadata": {},
   "source": [
    "<h4><ul><li>Extensive Libraries and Frameworks</li></ul></h4>\n",
    "<p>*Python has a massive standard library and third-party frameworks for various domains, including:<p>\n",
    "<p>*Data Science & AI: NumPy, Pandas, TensorFlow, PyTorch<p>\n",
    "<p>*Web Development: Django, Flask<p>\n",
    "<p>*Automation: Selenium, PyAutoGUI<p>\n",
    "<p>*Networking: Scapy, Paramiko<p>"
   ]
  },
  {
   "cell_type": "markdown",
   "id": "903fa47d",
   "metadata": {},
   "source": [
    "<div style=\"background-color: #f5b7b1; color: black; padding: 4px;\">\n",
    "<h3>3.Efficient high level data structure</h3></div>"
   ]
  },
  {
   "cell_type": "markdown",
   "id": "f0071759",
   "metadata": {},
   "source": [
    "<h4><ul>\n",
    "<li>Built-in High-Level Data Structures</li></ul>\n",
    "</h4>\n",
    "<p>Python provides ready-to-use data structures that are optimized for performance.</p>"
   ]
  },
  {
   "cell_type": "code",
   "execution_count": 8,
   "id": "c5c1dd01",
   "metadata": {},
   "outputs": [
    {
     "name": "stdout",
     "output_type": "stream",
     "text": [
      "[1, 'hello', 3.14, 100]\n"
     ]
    }
   ],
   "source": [
    "list = [1, \"hello\", 3.14]  \n",
    "list.append(100)       #append means add new element\n",
    "print(list)\n"
   ]
  },
  {
   "cell_type": "markdown",
   "id": "e105e3f3",
   "metadata": {},
   "source": [
    "<h4><ul><li>Tuples (Immutable Lists)</li>\n",
    "</ul>\n",
    "</h4>\n",
    "<p>*Faster than lists because they are immutable.</p>\n",
    "<p>*Uses less memory than lists, improving performance.</p>"
   ]
  },
  {
   "cell_type": "code",
   "execution_count": 9,
   "id": "915827e9",
   "metadata": {},
   "outputs": [
    {
     "name": "stdout",
     "output_type": "stream",
     "text": [
      "20\n"
     ]
    }
   ],
   "source": [
    "tuple = (10, 20, 30)\n",
    "print(tuple[1])"
   ]
  },
  {
   "cell_type": "markdown",
   "id": "6335ced7",
   "metadata": {},
   "source": [
    "<h4><ul><li> Dictionaries </li></ul></h5>\n",
    "<p>*Key-value pairs with O(1) average time complexity for lookups.<p>\n",
    "<p>*Uses a hashing algorithm for efficient data retrieval.<p>"
   ]
  },
  {
   "cell_type": "code",
   "execution_count": 18,
   "id": "4ebbe9c0",
   "metadata": {},
   "outputs": [
    {
     "name": "stdout",
     "output_type": "stream",
     "text": [
      "{'name': 'Deepika', 'Roll no': 231122, 'address': 'naraingarh'}\n"
     ]
    }
   ],
   "source": [
    "dict={\"name\":\"Deepika\", \"Roll no\":231122,\"address\":\"naraingarh\"}\n",
    "print(dict)\n"
   ]
  },
  {
   "cell_type": "markdown",
   "id": "c3f19a3f",
   "metadata": {},
   "source": [
    "<h4><ul><li>Sets</li></ul>\n",
    "</h4>\n",
    "<p>*Eliminates duplicates automatically.</p>\n",
    "<p>*Efficient for membership testing\n",
    "</p>"
   ]
  },
  {
   "cell_type": "code",
   "execution_count": 20,
   "id": "9320c6b7",
   "metadata": {},
   "outputs": [
    {
     "name": "stdout",
     "output_type": "stream",
     "text": [
      "{1, 2, 4, 5}\n"
     ]
    }
   ],
   "source": [
    "set = {1, 2, 3, 4}\n",
    "set.add(5)     # O(1) - Adds an element\n",
    "set.remove(3)  # O(1) - Removes an element\n",
    "print(set)"
   ]
  },
  {
   "cell_type": "markdown",
   "id": "ae2e1c8b",
   "metadata": {},
   "source": [
    "<div style=\"background-color: #f5b7b1; color: black; padding: 4px;\">\n",
    "<h3>4.Elegant syntaxn</h3></div>\n",
    "<h4><ul><li>Dynamic Typing (No Need to Declare Types)</li></ul></h4>\n",
    "<p>Python automatically infers data types, making code cleaner.<p>"
   ]
  },
  {
   "cell_type": "code",
   "execution_count": 26,
   "id": "43f2f94e",
   "metadata": {},
   "outputs": [],
   "source": [
    "x=10\n",
    "y=\"hello word\"\n"
   ]
  },
  {
   "cell_type": "markdown",
   "id": "51035348",
   "metadata": {},
   "source": [
    "<h4><ul><li>Clear and Concise String Formatting</li></ul></h4>\n",
    "<p>Python has an elegant way of formatting strings using f-strings.<p>"
   ]
  },
  {
   "cell_type": "code",
   "execution_count": 23,
   "id": "33a749b6",
   "metadata": {},
   "outputs": [
    {
     "name": "stdout",
     "output_type": "stream",
     "text": [
      "My name is rohan and I am 25 years old.\n"
     ]
    }
   ],
   "source": [
    "name = \"rohan\"\n",
    "age = 25\n",
    "print(f\"My name is {name} and I am {age} years old.\")"
   ]
  },
  {
   "cell_type": "markdown",
   "id": "0009b88f",
   "metadata": {},
   "source": [
    "<div style=\"background-color: #f5b7b1; color: black; padding: 4px;\">\n",
    "<h3>5.interpretted language</h3></div>\n",
    "<h4><ul><li>No Explicit Compilation Step</li></ul></h4>\n",
    "<p>Unlike languages like C or Java, where code is first compiled into machine code before execution, Python directly runs the script using an interpreter.<p>"
   ]
  },
  {
   "cell_type": "code",
   "execution_count": 24,
   "id": "c41a45e6",
   "metadata": {},
   "outputs": [
    {
     "name": "stdout",
     "output_type": "stream",
     "text": [
      "Hello, World!\n"
     ]
    }
   ],
   "source": [
    "print(\"Hello, World!\")\n"
   ]
  },
  {
   "cell_type": "markdown",
   "id": "5454f2e3-4fa4-48f9-936a-35be52d769af",
   "metadata": {},
   "source": [
    "<!--- Mohammad Idrees Bhat | Mohammad Idrees Bhat --->"
   ]
  },
  {
   "cell_type": "markdown",
   "id": "72fbd9a2",
   "metadata": {},
   "source": [
    "<h4><ul><li>Interactive Execution (REPL)\n",
    "</li></ul></h4>\n",
    "<p>Since Python is interpreted, you can run code line by line in an interactive shell (REPL: Read-Eval-Print Loop).<p><br>\n",
    "<p> Example (Python Shell / IDLE):</p>"
   ]
  },
  {
   "cell_type": "code",
   "execution_count": 2,
   "id": "214e2d6f",
   "metadata": {},
   "outputs": [
    {
     "data": {
      "text/plain": [
       "30"
      ]
     },
     "execution_count": 2,
     "metadata": {},
     "output_type": "execute_result"
    }
   ],
   "source": [
    " x = 10\n",
    " y = 20\n",
    " x + y"
   ]
  },
  {
   "cell_type": "markdown",
   "id": "15387ef7",
   "metadata": {},
   "source": [
    "<div style=\"background-color:lightgreen; color: black; padding: 10px;\">\n",
    "    <h2><b>What can Python do?</b> </h2></div>\n",
    "\n",
    "    "
   ]
  },
  {
   "cell_type": "markdown",
   "id": "fc85bf01",
   "metadata": {},
   "source": [
    "<h4><p><ul>\n",
    "<li>Python can be used on a server to create web applications.</li>\n",
    "<li>Python can be used alongside software to create workflows.</li>\n",
    "<li>Python can connect to database systems. It can also read and modify files.</li>\n",
    "<li>Python can be used to handle big data and perform complex mathematics.</li>\n",
    "<li>Python can be used for rapid prototyping, or for production-ready software development.\n",
    "</li>\n",
    "</ul></p></h4>"
   ]
  },
  {
   "cell_type": "markdown",
   "id": "327e4167",
   "metadata": {},
   "source": [
    "<div style=\"background-color:lightgreen; color: black; padding: 10px;\">\n",
    "    <h2><b>Why Python?\n",
    "</b> </h2></div>\n",
    "\n"
   ]
  },
  {
   "cell_type": "markdown",
   "id": "975d2171",
   "metadata": {},
   "source": [
    "<h4><p><ol><li>Python works on different platforms (Windows, Mac, Linux, Raspberry Pi, etc).</li>\n",
    "<li>Python has a simple syntax similar to the English language.</li>\n",
    "<li>Rich Library & Framework Ecosystem</li>\n",
    "<ul><li>Data Analysis: pandas, numpy</li>\n",
    "<li>Web Development: Django, Flask, FastAPI</li><li>Machine Learning: scikit-learn, TensorFlow, PyTorch, XGBoost</li>\n",
    "</ul>\n",
    "\n",
    "</ol></p></h4>"
   ]
  }
 ],
 "metadata": {
  "kernelspec": {
   "display_name": "Python 3",
   "language": "python",
   "name": "python3"
  },
  "language_info": {
   "codemirror_mode": {
    "name": "ipython",
    "version": 3
   },
   "file_extension": ".py",
   "mimetype": "text/x-python",
   "name": "python",
   "nbconvert_exporter": "python",
   "pygments_lexer": "ipython3",
   "version": "3.13.2"
  }
 },
 "nbformat": 4,
 "nbformat_minor": 5
}
